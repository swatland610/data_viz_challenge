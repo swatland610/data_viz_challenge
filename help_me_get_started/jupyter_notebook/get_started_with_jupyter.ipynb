{
 "cells": [
  {
   "cell_type": "code",
   "execution_count": 1,
   "metadata": {},
   "outputs": [],
   "source": [
    "# import modules\n",
    "# these will bring in other python packages to help us analyze and visualize the data\n",
    "\n",
    "import pandas as pd # data analysis package\n",
    "import seaborn as sns # data visualization package"
   ]
  },
  {
   "cell_type": "code",
   "execution_count": 5,
   "metadata": {},
   "outputs": [],
   "source": [
    "# set url variable to csv data in Github\n",
    "url = \"https://raw.githubusercontent.com/swatland610/data_viz_challenge/main/data/ccsao_intake.csv\"\n",
    "\n",
    "# read data at url, bring it into a data table (DataFrame)\n",
    "intakes_data = pd.read_csv(url)"
   ]
  },
  {
   "cell_type": "code",
   "execution_count": 6,
   "metadata": {},
   "outputs": [
    {
     "name": "stdout",
     "output_type": "stream",
     "text": [
      "<class 'pandas.core.frame.DataFrame'>\n",
      "RangeIndex: 429724 entries, 0 to 429723\n",
      "Data columns (total 17 columns):\n",
      " #   Column                   Non-Null Count   Dtype  \n",
      "---  ------                   --------------   -----  \n",
      " 0   CASE_ID                  429724 non-null  float64\n",
      " 1   CASE_PARTICIPANT_ID      429724 non-null  float64\n",
      " 2   RECEIVED_DATE            429724 non-null  object \n",
      " 3   OFFENSE_CATEGORY         429724 non-null  object \n",
      " 4   PARTICIPANT_STATUS       407297 non-null  object \n",
      " 5   AGE_AT_INCIDENT          407695 non-null  float64\n",
      " 6   RACE                     416498 non-null  object \n",
      " 7   GENDER                   418512 non-null  object \n",
      " 8   INCIDENT_CITY            412027 non-null  object \n",
      " 9   INCIDENT_BEGIN_DATE      411058 non-null  object \n",
      " 10  INCIDENT_END_DATE        34584 non-null   object \n",
      " 11  LAW_ENFORCEMENT_AGENCY   412059 non-null  object \n",
      " 12  LAW_ENFORCEMENT_UNIT     161051 non-null  object \n",
      " 13  ARREST_DATE              389894 non-null  object \n",
      " 14  FELONY_REVIEW_DATE       251224 non-null  object \n",
      " 15  FELONY_REVIEW_RESULT     251224 non-null  object \n",
      " 16  UPDATE_OFFENSE_CATEGORY  429724 non-null  object \n",
      "dtypes: float64(3), object(14)\n",
      "memory usage: 55.7+ MB\n"
     ]
    }
   ],
   "source": [
    "# check out the size of the table & what columns were brought in\n",
    "intakes_data.info()"
   ]
  },
  {
   "cell_type": "code",
   "execution_count": 10,
   "metadata": {},
   "outputs": [
    {
     "data": {
      "image/png": "[encoded data removed]",
      "text/plain": [
       "<Figure size 432x288 with 1 Axes>"
      ]
     },
     "metadata": {
      "needs_background": "light"
     },
     "output_type": "display_data"
    }
   ],
   "source": [
    "# let's make a quick visualization that depicts amount budgeted by department\n",
    "ax = sns.countplot(x = \"OFFENSE_CATEGORY\", data = intakes_data)"
   ]
  },
  {
   "cell_type": "code",
   "execution_count": 5,
   "metadata": {},
   "outputs": [],
   "source": [
    "# this is pretty hard to read and not really meaningful at all. \n",
    "# But I'll leave you at this point for you to make it your own. Feel free to reach out for help! \n",
    "\n",
    "# If you want to learn more about seaborn, check out the docs here: https://seaborn.pydata.org/index.html"
   ]
  }
 ],
 "metadata": {
  "kernelspec": {
   "display_name": "Python 3.8.2 64-bit",
   "language": "python",
   "name": "python38264bit3ef51e4033a143b48d6e3985ffb71731"
  },
  "language_info": {
   "codemirror_mode": {
    "name": "ipython",
    "version": 3
   },
   "file_extension": ".py",
   "mimetype": "text/x-python",
   "name": "python",
   "nbconvert_exporter": "python",
   "pygments_lexer": "ipython3",
   "version": "3.8.6"
  }
 },
 "nbformat": 4,
 "nbformat_minor": 4
}
